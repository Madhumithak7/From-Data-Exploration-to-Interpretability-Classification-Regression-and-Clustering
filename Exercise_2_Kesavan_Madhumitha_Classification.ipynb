{
 "cells": [
  {
   "cell_type": "markdown",
   "id": "c44dd96c-f0c2-4594-a802-576ebfd3bc73",
   "metadata": {},
   "source": [
    "# **Course: Data Science for Decision Support**\n",
    "**Assignment 1**\n",
    "\n",
    "**Author:** MADHUMITHA, KESAVAN: 537467\n",
    "\n",
    "**Classification**"
   ]
  },
  {
   "cell_type": "code",
   "execution_count": 183,
   "id": "04489fc7-2628-426b-9f83-c62209918b39",
   "metadata": {},
   "outputs": [],
   "source": [
    "import numpy as np\n",
    "import pandas as pd\n",
    "import matplotlib.pyplot as plt\n",
    "from sklearn import linear_model\n",
    "import seaborn as sns\n",
    "import math\n",
    "from sklearn import preprocessing\n",
    "from sklearn.preprocessing import StandardScaler\n",
    "from sklearn.preprocessing import MinMaxScaler\n",
    "from sklearn.model_selection import train_test_split\n",
    "from sklearn.preprocessing import LabelEncoder\n",
    "\n",
    "from sklearn.model_selection import train_test_split, GridSearchCV\n",
    "from sklearn.model_selection import KFold\n",
    "from scipy.stats import chi2_contingency\n",
    "import scipy.stats as stats\n",
    "\n",
    "from sklearn.linear_model import LogisticRegression\n",
    "from sklearn.tree import DecisionTreeClassifier\n",
    "from sklearn.neighbors import KNeighborsClassifier\n",
    "from sklearn.svm import SVC\n",
    "from sklearn.metrics import accuracy_score, confusion_matrix, classification_report, precision_score, recall_score, f1_score\n",
    "\n",
    "from sklearn.ensemble import RandomForestClassifier\n",
    "import xgboost as xgb\n",
    "from catboost import CatBoostClassifier\n",
    "import lightgbm as lgb\n",
    "\n",
    "from sklearn.model_selection import GridSearchCV, cross_val_score, KFold\n"
   ]
  },
  {
   "cell_type": "markdown",
   "id": "79ff07ed-2596-46e3-b4c1-5186fc5eb243",
   "metadata": {},
   "source": [
    "1)\t`Read the data from your individual variant into Python notebook`"
   ]
  },
  {
   "cell_type": "markdown",
   "id": "9eb3bcef-6d9e-4f3f-b33c-378ccc293aed",
   "metadata": {},
   "source": [
    "`Task 2 \"Data Analysis\" (20 points)`\n",
    "\n",
    "Objective: to evaluate the performance of 4 ML methods below and to make conclusions about the best fitted model.\n",
    "\n",
    "* Random Forest,\n",
    "* XG Boost,\n",
    "* CatBoost\n",
    "* LightGBM"
   ]
  },
  {
   "cell_type": "markdown",
   "id": "e77bfec0-5c58-4439-8753-5ed725f75d8f",
   "metadata": {},
   "source": [
    "1) `Divide your dataset into 2 parts: training set and testing set (80:20). Use some specific random_state to be capable to repeat the used split of the data. Output the dimension of the resulting datasets.`"
   ]
  },
  {
   "cell_type": "markdown",
   "id": "8938bcc8-aa8f-4fb4-a3c0-0b3d5b098c55",
   "metadata": {},
   "source": [
    "2) `Scale your datasets with MinMax Scaler.`"
   ]
  },
  {
   "cell_type": "markdown",
   "id": "26bd1090-4888-4b0a-9b46-16208a8f40e9",
   "metadata": {},
   "source": [
    "3) `Preliminary analysis: Build 4 models based on 4 mentioned ML methods with default parameters. For each model: train with training set and output the Model , Accuracy_train,  Precision_train,  Recall_train  of the model using training set. Now test your model with a testset and output Model,  Accuracy_test,  Precision_test,  Recall_test . Compare the metrics obtained with training and testset. Output dataframes with the following information. One dataframe for each metrics (e.g. 3 dataframes). Each row of the dataframe should correspond to a model and two columns correspond to the metric calculated on the training set and on the test set. Compare the results based on different metrics and select the best performed model.`"
   ]
  },
  {
   "cell_type": "code",
   "execution_count": 189,
   "id": "ff21bc17-be7b-4151-b472-bb9369242f13",
   "metadata": {},
   "outputs": [],
   "source": [
    "df= pd.read_csv(\"HR_comma_sep.csv\")"
   ]
  },
  {
   "cell_type": "code",
   "execution_count": 190,
   "id": "42bef817-5e74-45d5-b14f-49a908d3d9b9",
   "metadata": {},
   "outputs": [
    {
     "name": "stdout",
     "output_type": "stream",
     "text": [
      "Shape of X (Independent Variables): (14999, 9)\n",
      "Shape of Y (Dependent Variable): (14999,)\n"
     ]
    }
   ],
   "source": [
    "X = df[['satisfaction_level', 'last_evaluation', 'number_project', 'average_montly_hours', \n",
    "          'time_spend_company', 'Work_accident', 'promotion_last_5years','Department','salary']]\n",
    "Y = df['left']\n",
    "\n",
    "# shapes of X and Y\n",
    "print(\"Shape of X (Independent Variables):\", X.shape)\n",
    "print(\"Shape of Y (Dependent Variable):\", Y.shape)"
   ]
  },
  {
   "cell_type": "code",
   "execution_count": 191,
   "id": "5c222552-d1eb-4916-9578-15b28d39277c",
   "metadata": {},
   "outputs": [
    {
     "name": "stdout",
     "output_type": "stream",
     "text": [
      "<class 'pandas.core.frame.DataFrame'>\n",
      "RangeIndex: 14999 entries, 0 to 14998\n",
      "Data columns (total 9 columns):\n",
      " #   Column                 Non-Null Count  Dtype  \n",
      "---  ------                 --------------  -----  \n",
      " 0   satisfaction_level     14999 non-null  float64\n",
      " 1   last_evaluation        14999 non-null  float64\n",
      " 2   number_project         14999 non-null  int64  \n",
      " 3   average_montly_hours   14999 non-null  int64  \n",
      " 4   time_spend_company     14999 non-null  int64  \n",
      " 5   Work_accident          14999 non-null  int64  \n",
      " 6   promotion_last_5years  14999 non-null  int64  \n",
      " 7   Department             14999 non-null  object \n",
      " 8   salary                 14999 non-null  object \n",
      "dtypes: float64(2), int64(5), object(2)\n",
      "memory usage: 1.0+ MB\n"
     ]
    }
   ],
   "source": [
    "X.info()"
   ]
  },
  {
   "cell_type": "code",
   "execution_count": 192,
   "id": "878856db-72d5-4370-aea2-eb75b54044da",
   "metadata": {},
   "outputs": [
    {
     "name": "stdout",
     "output_type": "stream",
     "text": [
      "<class 'pandas.core.series.Series'>\n",
      "RangeIndex: 14999 entries, 0 to 14998\n",
      "Series name: left\n",
      "Non-Null Count  Dtype\n",
      "--------------  -----\n",
      "14999 non-null  int64\n",
      "dtypes: int64(1)\n",
      "memory usage: 117.3 KB\n"
     ]
    }
   ],
   "source": [
    "Y.info()"
   ]
  },
  {
   "cell_type": "markdown",
   "id": "12e98328-b4fe-4e74-8235-e211de7107e4",
   "metadata": {},
   "source": [
    "1) `Construct four ML classification models: random forest, XGBoost, CatBoost, and Light GBM.`\n"
   ]
  },
  {
   "cell_type": "code",
   "execution_count": 194,
   "id": "6bba9aae-d67d-4e6d-913f-7bccd95ddb9b",
   "metadata": {},
   "outputs": [
    {
     "name": "stdout",
     "output_type": "stream",
     "text": [
      "[LightGBM] [Info] Number of positive: 2865, number of negative: 9134\n",
      "[LightGBM] [Info] Auto-choosing row-wise multi-threading, the overhead of testing was 0.000697 seconds.\n",
      "You can set `force_row_wise=true` to remove the overhead.\n",
      "And if memory is not enough, you can set `force_col_wise=true`.\n",
      "[LightGBM] [Info] Total Bins 403\n",
      "[LightGBM] [Info] Number of data points in the train set: 11999, number of used features: 9\n",
      "[LightGBM] [Info] [binary:BoostFromScore]: pavg=0.238770 -> initscore=-1.159435\n",
      "[LightGBM] [Info] Start training from score -1.159435\n",
      "           Model  Accuracy  Precision    Recall         Confusion Matrix  \\\n",
      "0  Random Forest  0.988333   0.986938  0.963173   [[2285, 9], [26, 680]]   \n",
      "1        XGBoost  0.987667   0.982684  0.964589  [[2282, 12], [25, 681]]   \n",
      "2       CatBoost  0.985667   0.983942  0.954674  [[2283, 11], [32, 674]]   \n",
      "3       LightGBM  0.986333   0.983988  0.957507  [[2283, 11], [30, 676]]   \n",
      "\n",
      "         F1  \n",
      "0  0.974910  \n",
      "1  0.973553  \n",
      "2  0.969087  \n",
      "3  0.970567  \n"
     ]
    },
    {
     "data": {
      "image/png": "[encoded data removed]",
      "text/plain": [
       "<Figure size 600x500 with 2 Axes>"
      ]
     },
     "metadata": {},
     "output_type": "display_data"
    },
    {
     "data": {
      "image/png": "[encoded data removed]",
      "text/plain": [
       "<Figure size 600x500 with 2 Axes>"
      ]
     },
     "metadata": {},
     "output_type": "display_data"
    },
    {
     "data": {
      "image/png": "[encoded data removed]",
      "text/plain": [
       "<Figure size 600x500 with 2 Axes>"
      ]
     },
     "metadata": {},
     "output_type": "display_data"
    },
    {
     "data": {
      "image/png": "[encoded data removed]",
      "text/plain": [
       "<Figure size 600x500 with 2 Axes>"
      ]
     },
     "metadata": {},
     "output_type": "display_data"
    }
   ],
   "source": [
    "# Encoding categorical variables\n",
    "label_encoders = {}\n",
    "for column in ['Department', 'salary']:\n",
    "    le = LabelEncoder()\n",
    "    df[column + '_encoded'] = le.fit_transform(df[column])\n",
    "    label_encoders[column] = le\n",
    "\n",
    "# Features and target variable\n",
    "X = df.drop(['left', 'Department', 'salary'], axis=1)  # Drop original categorical columns\n",
    "Y = df['left']  # Target variable\n",
    "\n",
    "# Split data into training and test sets\n",
    "X_train, X_test, Y_train, Y_test = train_test_split(X, Y, test_size=0.2, random_state=42)\n",
    "\n",
    "# Initialize MinMaxScaler\n",
    "scaler = MinMaxScaler()\n",
    "\n",
    "# Select only numeric columns for scaling\n",
    "numeric_columns = X.select_dtypes(include=['float64', 'int64']).columns\n",
    "X_train_scaled = X_train[numeric_columns]\n",
    "X_test_scaled = X_test[numeric_columns]\n",
    "\n",
    "# Fit the scaler on the training data and transform both train and test sets\n",
    "X_train_scaled = scaler.fit_transform(X_train_scaled)\n",
    "X_test_scaled = scaler.transform(X_test_scaled)\n",
    "\n",
    "# Rebuild the full feature set with scaled numeric columns\n",
    "X_train_scaled_full = X_train.copy()\n",
    "X_test_scaled_full = X_test.copy()\n",
    "X_train_scaled_full[numeric_columns] = X_train_scaled\n",
    "X_test_scaled_full[numeric_columns] = X_test_scaled\n",
    "\n",
    "# Initialize the models\n",
    "models = {\n",
    "    \"Random Forest\": RandomForestClassifier(random_state=42),\n",
    "    \"XGBoost\": xgb.XGBClassifier(random_state=42),\n",
    "    \"CatBoost\": CatBoostClassifier(random_state=42, verbose=0),\n",
    "    \"LightGBM\": lgb.LGBMClassifier(random_state=42)\n",
    "}\n",
    "\n",
    "# Dictionary to store results\n",
    "results = []\n",
    "\n",
    "# Train and evaluate each model\n",
    "for model_name, model in models.items():\n",
    "    # Train the model\n",
    "    model.fit(X_train_scaled_full, Y_train)\n",
    "    \n",
    "    # Predict on test data\n",
    "    y_pred = model.predict(X_test_scaled_full)\n",
    "    \n",
    "    # Calculate metrics\n",
    "    accuracy = accuracy_score(Y_test, y_pred)\n",
    "    precision = precision_score(Y_test, y_pred)\n",
    "    recall = recall_score(Y_test, y_pred)\n",
    "    f1 = f1_score(Y_test, y_pred)\n",
    "    cm = confusion_matrix(Y_test, y_pred)\n",
    "    \n",
    "    # Store results in a list\n",
    "    results.append({\n",
    "        'Model': model_name,\n",
    "        'Accuracy': accuracy,\n",
    "        'Precision': precision,\n",
    "        'Recall': recall,\n",
    "        'Confusion Matrix': cm,\n",
    "        'F1': f1\n",
    "    })\n",
    "\n",
    "# Create a DataFrame from the results\n",
    "results_df = pd.DataFrame(results)\n",
    "\n",
    "# Display the results\n",
    "print(results_df)\n",
    "\n",
    "# Plot confusion matrices for each model\n",
    "for model_name, model in models.items():\n",
    "    y_pred = model.predict(X_test_scaled_full)\n",
    "    cm = confusion_matrix(Y_test, y_pred)\n",
    "    \n",
    "    # Plot the confusion matrix\n",
    "    plt.figure(figsize=(6, 5))\n",
    "    sns.heatmap(cm, annot=True, fmt='d', cmap='Blues', xticklabels=['No', 'Yes'], yticklabels=['No', 'Yes'])\n",
    "    plt.title(f\"Confusion Matrix for {model_name}\")\n",
    "    plt.xlabel(\"Predicted\")\n",
    "    plt.ylabel(\"Actual\")\n",
    "    plt.show()\n"
   ]
  },
  {
   "cell_type": "markdown",
   "id": "f4b63a83-7099-451e-976a-052d6476238e",
   "metadata": {},
   "source": [
    "[LightGBM] [Info] Number of positive: 2865, number of negative: 9134  \n",
    "[LightGBM] [Info] Auto-choosing row-wise multi-threading, the overhead of testing was 0.000330 seconds.  \n",
    "You can set `force_row_wise=true` to remove the overhead.  \n",
    "And if memory is not enough, you can set `force_col_wise=true`.  \n",
    "[LightGBM] [Info] Total Bins 403  \n",
    "[LightGBM] [Info] Number of data points in the train set: 11999, number of used features: 9  \n",
    "[LightGBM] [Info] [binary:BoostFromScore]: pavg=0.238770 -> initscore=-1.159435  \n",
    "[LightGBM] [Info] Start training from score -1.159435  \n",
    "\n",
    "| Model         | Accuracy | Precision | Recall | Confusion Matrix             | F1       |\n",
    "|---------------|----------|-----------|--------|-----------------------------|----------|\n",
    "| Random Forest | 0.988333 | 0.986938  | 0.963173 | [[2285, 9], [26, 680]]       | 0.974910 |\n",
    "| XGBoost       | 0.987667 | 0.982684  | 0.964589 | [[2282, 12], [25, 681]]      | 0.973553 |\n",
    "| CatBoost      | 0.985667 | 0.983942  | 0.954674 | [[2283, 11], [32, 674]]      | 0.969087 |\n",
    "| LightGBM      | 0.986333 | 0.983988  | 0.957507 | [[2283, 11], [30, 676]]      | 0.970567 |\n"
   ]
  },
  {
   "cell_type": "markdown",
   "id": "37a1d8de-43b1-4470-a9f3-cb21d664e604",
   "metadata": {},
   "source": [
    "1) LightGBM:\n",
    "the dataset is imbalanced, with significantly more negative (9134) than positive (2865) samples.\n",
    "Achieves a strong performance across all metrics.\n",
    "While slightly lower in accuracy and recall compared to Random Forest and XGBoost, it offers a good balance between precision and recall.\n",
    "3) Random Forest:\n",
    "Excels in precision, indicating a low rate of false positives.\n",
    "However, it has slightly lower recall, suggesting it may miss some positive cases.\n",
    "4) XGBoost:\n",
    "Similar performance to Random Forest, with a slightly higher recall.\n",
    "5) CatBoost:\n",
    "Lower recall compared to the other models, indicating it may miss more positive cases.\n",
    "\n",
    "\n",
    "#### Accuracy:\n",
    " Random Forest performs slightly better than other models with an accuracy of 98.83%, followed closely by XGBoost (98.77%), LightGBM (98.63%), and CatBoost (98.57%).\n",
    "#### Precision:\n",
    "Random Forest also leads in Precision (98.69%), but LightGBM (98.40%) and XGBoost (98.27%) follow closely behind.\n",
    "CatBoost performs similarly to XGBoost with a Precision of 98.39%.\n",
    "#### Recall:\n",
    "XGBoost has the highest Recall at 96.46%, followed by LightGBM (95.75%) and Random Forest (96.32%).\n",
    "CatBoost has the lowest Recall at 95.47%.\n",
    "#### F1-Score:\n",
    "Random Forest achieves the highest F1-score (0.9749), closely followed by XGBoost (0.9736).\n",
    "LightGBM and CatBoost show competitive F1-scores (0.9706, 0.9691), suggesting they also provide a good balance between precision and recall.\n",
    "\n",
    "#### Conclusions:\n",
    "\n",
    "1) Random Forest has the highest accuracy (98.83%) followed by XGBoost (98.77%), LightGBM (98.63%), and CatBoost (98.57%).\n",
    "2) Random Forest and XGBoost seem to offer marginally better results in terms of accuracy and recall, but LightGBM provides a good balance with fast training times and excellent overall performance.\n",
    "3) LightGBM performs competitively with other models in terms of accuracy, precision, and recall."
   ]
  },
  {
   "cell_type": "markdown",
   "id": "83f325e8-64d0-4f62-8c6c-bd7014f132de",
   "metadata": {},
   "source": [
    "2) `Find the optimal values of the hyper-parameters with GridSearchCV() function and evaluate the performance with Kfold cross validation in the same way as in assignment 1.`\n"
   ]
  },
  {
   "cell_type": "code",
   "execution_count": 198,
   "id": "a909fcf6-8a1f-4bc5-8010-f82063e67753",
   "metadata": {},
   "outputs": [
    {
     "name": "stdout",
     "output_type": "stream",
     "text": [
      "Optimizing Random Forest...\n",
      "Fitting 5 folds for each of 27 candidates, totalling 135 fits\n",
      "Best Parameters for Random Forest: {'max_depth': 20, 'min_samples_split': 2, 'n_estimators': 200}\n",
      "Optimizing XGBoost...\n",
      "Fitting 5 folds for each of 27 candidates, totalling 135 fits\n",
      "Best Parameters for XGBoost: {'learning_rate': 0.3, 'max_depth': 7, 'n_estimators': 100}\n",
      "Optimizing CatBoost...\n",
      "Fitting 5 folds for each of 12 candidates, totalling 60 fits\n",
      "Best Parameters for CatBoost: {'depth': 10, 'iterations': 200, 'learning_rate': 0.1}\n",
      "Optimizing LightGBM...\n",
      "Fitting 5 folds for each of 16 candidates, totalling 80 fits\n",
      "[LightGBM] [Info] Number of positive: 2865, number of negative: 9134\n",
      "[LightGBM] [Info] Auto-choosing row-wise multi-threading, the overhead of testing was 0.001132 seconds.\n",
      "You can set `force_row_wise=true` to remove the overhead.\n",
      "And if memory is not enough, you can set `force_col_wise=true`.\n",
      "[LightGBM] [Info] Total Bins 403\n",
      "[LightGBM] [Info] Number of data points in the train set: 11999, number of used features: 9\n",
      "[LightGBM] [Info] [binary:BoostFromScore]: pavg=0.238770 -> initscore=-1.159435\n",
      "[LightGBM] [Info] Start training from score -1.159435\n",
      "Best Parameters for LightGBM: {'learning_rate': 0.1, 'max_depth': 10, 'n_estimators': 200, 'num_leaves': 31}\n",
      "[LightGBM] [Info] Number of positive: 2329, number of negative: 7270\n",
      "[LightGBM] [Info] Auto-choosing row-wise multi-threading, the overhead of testing was 0.000329 seconds.\n",
      "You can set `force_row_wise=true` to remove the overhead.\n",
      "And if memory is not enough, you can set `force_col_wise=true`.\n",
      "[LightGBM] [Info] Total Bins 403\n",
      "[LightGBM] [Info] Number of data points in the train set: 9599, number of used features: 9\n",
      "[LightGBM] [Info] [binary:BoostFromScore]: pavg=0.242629 -> initscore=-1.138317\n",
      "[LightGBM] [Info] Start training from score -1.138317\n",
      "[LightGBM] [Info] Number of positive: 2267, number of negative: 7332\n",
      "[LightGBM] [Info] Auto-choosing row-wise multi-threading, the overhead of testing was 0.000544 seconds.\n",
      "You can set `force_row_wise=true` to remove the overhead.\n",
      "And if memory is not enough, you can set `force_col_wise=true`.\n",
      "[LightGBM] [Info] Total Bins 403\n",
      "[LightGBM] [Info] Number of data points in the train set: 9599, number of used features: 9\n",
      "[LightGBM] [Info] [binary:BoostFromScore]: pavg=0.236170 -> initscore=-1.173791\n",
      "[LightGBM] [Info] Start training from score -1.173791\n",
      "[LightGBM] [Info] Number of positive: 2277, number of negative: 7322\n",
      "[LightGBM] [Info] Auto-choosing row-wise multi-threading, the overhead of testing was 0.000590 seconds.\n",
      "You can set `force_row_wise=true` to remove the overhead.\n",
      "And if memory is not enough, you can set `force_col_wise=true`.\n",
      "[LightGBM] [Info] Total Bins 403\n",
      "[LightGBM] [Info] Number of data points in the train set: 9599, number of used features: 9\n",
      "[LightGBM] [Info] [binary:BoostFromScore]: pavg=0.237212 -> initscore=-1.168025\n",
      "[LightGBM] [Info] Start training from score -1.168025\n",
      "[LightGBM] [Info] Number of positive: 2303, number of negative: 7296\n",
      "[LightGBM] [Info] Auto-choosing row-wise multi-threading, the overhead of testing was 0.000534 seconds.\n",
      "You can set `force_row_wise=true` to remove the overhead.\n",
      "And if memory is not enough, you can set `force_col_wise=true`.\n",
      "[LightGBM] [Info] Total Bins 402\n",
      "[LightGBM] [Info] Number of data points in the train set: 9599, number of used features: 9\n",
      "[LightGBM] [Info] [binary:BoostFromScore]: pavg=0.239921 -> initscore=-1.153114\n",
      "[LightGBM] [Info] Start training from score -1.153114\n",
      "[LightGBM] [Info] Number of positive: 2284, number of negative: 7316\n",
      "[LightGBM] [Info] Auto-choosing row-wise multi-threading, the overhead of testing was 0.000426 seconds.\n",
      "You can set `force_row_wise=true` to remove the overhead.\n",
      "And if memory is not enough, you can set `force_col_wise=true`.\n",
      "[LightGBM] [Info] Total Bins 403\n",
      "[LightGBM] [Info] Number of data points in the train set: 9600, number of used features: 9\n",
      "[LightGBM] [Info] [binary:BoostFromScore]: pavg=0.237917 -> initscore=-1.164135\n",
      "[LightGBM] [Info] Start training from score -1.164135\n",
      "           Model                                    Best Parameters  \\\n",
      "0  Random Forest  {'max_depth': 20, 'min_samples_split': 2, 'n_e...   \n",
      "1        XGBoost  {'learning_rate': 0.3, 'max_depth': 7, 'n_esti...   \n",
      "2       CatBoost  {'depth': 10, 'iterations': 200, 'learning_rat...   \n",
      "3       LightGBM  {'learning_rate': 0.1, 'max_depth': 10, 'n_est...   \n",
      "\n",
      "   CV Mean Accuracy  Test Accuracy  Precision    Recall        F1  \\\n",
      "0          0.990249       0.988667   0.988372  0.963173  0.975610   \n",
      "1          0.989082       0.988667   0.984150  0.967422  0.975714   \n",
      "2          0.986749       0.987333   0.981268  0.964589  0.972857   \n",
      "3          0.989916       0.988667   0.985549  0.966006  0.975680   \n",
      "\n",
      "          Confusion Matrix  \n",
      "0   [[2286, 8], [26, 680]]  \n",
      "1  [[2283, 11], [23, 683]]  \n",
      "2  [[2281, 13], [25, 681]]  \n",
      "3  [[2284, 10], [24, 682]]  \n"
     ]
    }
   ],
   "source": [
    "# Define parameter grid for each model\n",
    "param_grids = {\n",
    "    'Random Forest': {\n",
    "        'n_estimators': [100, 200, 300],\n",
    "        'max_depth': [10, 20, 30],\n",
    "        'min_samples_split': [2, 5, 10]\n",
    "    },\n",
    "    'XGBoost': {\n",
    "        'n_estimators': [100, 200, 300],\n",
    "        'learning_rate': [0.01, 0.1, 0.3],\n",
    "        'max_depth': [3, 5, 7]\n",
    "    },\n",
    "    'CatBoost': {\n",
    "        'iterations': [100, 200],\n",
    "        'learning_rate': [0.01, 0.1],\n",
    "        'depth': [5, 7, 10]\n",
    "    },\n",
    "    'LightGBM': {\n",
    "        'n_estimators': [100, 200],\n",
    "        'learning_rate': [0.01, 0.1],\n",
    "        'max_depth': [10, 20],\n",
    "        'num_leaves': [31, 50]\n",
    "    }\n",
    "}\n",
    "# Define KFold cross-validation\n",
    "kfold = KFold(n_splits=5, shuffle=True, random_state=42)\n",
    "\n",
    "# Initialize models\n",
    "models = {\n",
    "    'Random Forest': RandomForestClassifier(random_state=42),\n",
    "    'XGBoost': xgb.XGBClassifier(random_state=42),\n",
    "    'CatBoost': CatBoostClassifier(random_state=42, verbose=0),\n",
    "    'LightGBM': lgb.LGBMClassifier(random_state=42)\n",
    "}\n",
    "\n",
    "# Dictionary to store the results\n",
    "results = []\n",
    "\n",
    "# Loop over each model\n",
    "for model_name, model in models.items():\n",
    "    print(f\"Optimizing {model_name}...\")\n",
    "    \n",
    "    # Perform GridSearchCV\n",
    "    grid_search = GridSearchCV(model, param_grids[model_name], cv=kfold, scoring='accuracy', n_jobs=-1, verbose=1)\n",
    "    grid_search.fit(X_train_scaled_full, Y_train)\n",
    "    \n",
    "    # Best parameters found by GridSearchCV\n",
    "    best_params = grid_search.best_params_\n",
    "    print(f\"Best Parameters for {model_name}: {best_params}\")\n",
    "    \n",
    "    # Get the best model from GridSearchCV\n",
    "    best_model = grid_search.best_estimator_\n",
    "    \n",
    "    # Evaluate the best model using K-fold cross-validation\n",
    "    cv_results = cross_val_score(best_model, X_train_scaled_full, Y_train, cv=kfold, scoring='accuracy')\n",
    "    \n",
    "    # Calculate performance metrics\n",
    "    y_pred = best_model.predict(X_test_scaled_full)\n",
    "    accuracy = accuracy_score(Y_test, y_pred)\n",
    "    precision = precision_score(Y_test, y_pred)\n",
    "    recall = recall_score(Y_test, y_pred)\n",
    "    f1 = f1_score(Y_test, y_pred)\n",
    "    cm = confusion_matrix(Y_test, y_pred)\n",
    "    \n",
    "    # Store results in the list\n",
    "    results.append({\n",
    "        'Model': model_name,\n",
    "        'Best Parameters': best_params,\n",
    "        'CV Mean Accuracy': cv_results.mean(),\n",
    "        'Test Accuracy': accuracy,\n",
    "        'Precision': precision,\n",
    "        'Recall': recall,\n",
    "        'F1': f1,\n",
    "        'Confusion Matrix': cm\n",
    "    })\n",
    "\n",
    "# Create a DataFrame from the results\n",
    "results_df = pd.DataFrame(results)\n",
    "\n",
    "# Display the results\n",
    "print(results_df)\n"
   ]
  },
  {
   "cell_type": "markdown",
   "id": "3dd873aa-b871-4c97-9619-bca0563e67f4",
   "metadata": {},
   "source": [
    "#### Hyperparameter Tuning and Model Performance Evaluation\n",
    "\n",
    "**Optimizing Random Forest...**  \n",
    "Fitting 5 folds for each of 27 candidates, totalling 135 fits  \n",
    "**Best Parameters for Random Forest:** `{'max_depth': 20, 'min_samples_split': 2, 'n_estimators': 200}`\n",
    "\n",
    "**Optimizing XGBoost...**  \n",
    "Fitting 5 folds for each of 27 candidates, totalling 135 fits  \n",
    "**Best Parameters for XGBoost:** `{'learning_rate': 0.3, 'max_depth': 7, 'n_estimators': 100}`\n",
    "\n",
    "**Optimizing CatBoost...**  \n",
    "Fitting 5 folds for each of 12 candidates, totalling 60 fits  \n",
    "**Best Parameters for CatBoost:** `{'depth': 10, 'iterations': 200, 'learning_rate': 0.1}`\n",
    "\n",
    "**Optimizing LightGBM...**  \n",
    "Fitting 5 folds for each of 16 candidates, totalling 80 fits  \n",
    "[LightGBM] [Info] Number of positive: 2865, number of negative: 9134  \n",
    "[LightGBM] [Info] Auto-choosing row-wise multi-threading, the overhead of testing was 0.001254 seconds.  \n",
    "[LightGBM] [Info] Total Bins 403  \n",
    "[LightGBM] [Info] Number of data points in the train set: 11999, number of used features: 9  \n",
    "[LightGBM] [Info] [binary:BoostFromScore]: pavg=0.238770 -> initscore=-1.159435  \n",
    "[LightGBM] [Info] Start training from score -1.159435  \n",
    "\n",
    "**Best Parameters for LightGBM:** `{'learning_rate': 0.1, 'max_depth': 10, 'n_estimators': 200, 'num_leaves': 31}`\n",
    "\n",
    "#### Model Evaluation Results\n",
    "\n",
    "| Model        | Best Parameters                                                                 | CV Mean Accuracy | Test Accuracy | Precision | Recall   | F1       | Confusion Matrix            |\n",
    "|--------------|---------------------------------------------------------------------------------|-------------------|----------------|-----------|----------|----------|-----------------------------|\n",
    "| Random Forest| `{'max_depth': 20, 'min_samples_split': 2, 'n_estimators': 200}`                | 0.990249          | 0.988667       | 0.988372  | 0.963173 | 0.975610 | `[[2286, 8], [26, 680]]`    |\n",
    "| XGBoost      | `{'learning_rate': 0.3, 'max_depth': 7, 'n_estimators': 100}`                  | 0.989082          | 0.988667       | 0.984150  | 0.967422 | 0.975714 | `[[2283, 11], [23, 683]]`   |\n",
    "| CatBoost     | `{'depth': 10, 'iterations': 200, 'learning_rate': 0.1}`                        | 0.986749          | 0.987333       | 0.981268  | 0.964589 | 0.972857 | `[[2281, 13], [25, 681]]`   |\n",
    "| LightGBM     | `{'learning_rate': 0.1, 'max_depth': 10, 'n_estimators': 200, 'num_leaves': 31}` | 0.989916          | 0.988667       | 0.985549  | 0.966006 | 0.975680 | `[[2284, 10], [24, 682]]`   |\n"
   ]
  },
  {
   "cell_type": "markdown",
   "id": "df86746b-fe14-4d5f-88d5-f04009334340",
   "metadata": {},
   "source": [
    "#### Conclusions:\n",
    "1) All four models (Random Forest, XGBoost, CatBoost, and LightGBM) performed very similarly with high test accuracy (around 98.7% to 99.0%).\n",
    "2) Random Forest has the highest test accuracy at 98.87%, followed by XGBoost with 98.87%, LightGBM with 98.87%, and CatBoost with 98.73%.\n",
    "3) The F1 scores are very close across all models, ranging from 0.9756 (Random Forest) to 0.9757 (XGBoost) and 0.9757 (LightGBM), suggesting that all models are well-tuned for balancing precision and recall.\n",
    "4) The confusion matrices show that all models have very few instances of misclassification.\n",
    "5) XGBoost stands out with the highest precision (98.42%) and recall (96.74%), indicating it does a great job of minimizing false positives.\n",
    "6) LightGBM also performs well, with a precision of 98.55% and recall of 96.60%. It strikes a good balance between identifying positives.\n",
    "7) XGBoost and LightGBM are the top performers in terms of precision, recall, and F1 score.  "
   ]
  },
  {
   "cell_type": "markdown",
   "id": "6c9961ee-d7ea-4634-a40a-beac952cf79c",
   "metadata": {},
   "source": [
    "3) `Output the prediction results of the models with optimal parameters for one of the cross validations: create a dataframe with 5 columns, which correspond to \"real values\" and predicted values by each model on the testset and rows correspond to the observations from the testset.`\n"
   ]
  },
  {
   "cell_type": "code",
   "execution_count": 202,
   "id": "18b2ec35-7c52-48cf-9432-372fe1764091",
   "metadata": {},
   "outputs": [
    {
     "name": "stdout",
     "output_type": "stream",
     "text": [
      "[LightGBM] [Info] Number of positive: 2865, number of negative: 9134\n",
      "[LightGBM] [Info] Auto-choosing row-wise multi-threading, the overhead of testing was 0.000357 seconds.\n",
      "You can set `force_row_wise=true` to remove the overhead.\n",
      "And if memory is not enough, you can set `force_col_wise=true`.\n",
      "[LightGBM] [Info] Total Bins 403\n",
      "[LightGBM] [Info] Number of data points in the train set: 11999, number of used features: 9\n",
      "[LightGBM] [Info] [binary:BoostFromScore]: pavg=0.238770 -> initscore=-1.159435\n",
      "[LightGBM] [Info] Start training from score -1.159435\n",
      "      Real Values  Random Forest Prediction  XGBoost Prediction  \\\n",
      "6723            0                         0                   0   \n",
      "6473            0                         0                   0   \n",
      "4679            0                         0                   0   \n",
      "862             1                         1                   1   \n",
      "7286            0                         0                   0   \n",
      "\n",
      "      CatBoost Prediction  LightGBM Prediction  \n",
      "6723                    0                    0  \n",
      "6473                    0                    0  \n",
      "4679                    0                    0  \n",
      "862                     1                    1  \n",
      "7286                    0                    0  \n"
     ]
    }
   ],
   "source": [
    "# Retrain the models with the best parameters\n",
    "best_rf = RandomForestClassifier(max_depth=20, min_samples_split=2, n_estimators=200, random_state=42)\n",
    "best_rf.fit(X_train_scaled_full, Y_train)\n",
    "\n",
    "best_xgb = xgb.XGBClassifier(learning_rate=0.3, max_depth=7, n_estimators=100, random_state=42)\n",
    "best_xgb.fit(X_train_scaled_full, Y_train)\n",
    "\n",
    "best_catboost = CatBoostClassifier(depth=10, iterations=200, learning_rate=0.1, random_state=42, verbose=0)\n",
    "best_catboost.fit(X_train_scaled_full, Y_train)\n",
    "\n",
    "best_lgbm = lgb.LGBMClassifier(learning_rate=0.1, max_depth=10, n_estimators=200, num_leaves=31, random_state=42)\n",
    "best_lgbm.fit(X_train_scaled_full, Y_train)\n",
    "\n",
    "# Get the predictions for each model with the optimal parameters\n",
    "rf_pred = best_rf.predict(X_test_scaled_full)\n",
    "xgb_pred = best_xgb.predict(X_test_scaled_full)\n",
    "catboost_pred = best_catboost.predict(X_test_scaled_full)\n",
    "lgb_pred = best_lgbm.predict(X_test_scaled_full)\n",
    "\n",
    "# Create the dataframe with real values and predictions\n",
    "predictions_df = pd.DataFrame({\n",
    "    'Real Values': Y_test,\n",
    "    'Random Forest Prediction': rf_pred,\n",
    "    'XGBoost Prediction': xgb_pred,\n",
    "    'CatBoost Prediction': catboost_pred,\n",
    "    'LightGBM Prediction': lgb_pred\n",
    "})\n",
    "\n",
    "# Display the first few rows of the dataframe\n",
    "print(predictions_df.head())\n"
   ]
  },
  {
   "cell_type": "markdown",
   "id": "77397eb7-f2a3-40c2-a732-a1d341605fc1",
   "metadata": {},
   "source": [
    "[LightGBM] [Info] Number of positive: 2865, number of negative: 9134  \n",
    "[LightGBM] [Info] Auto-choosing row-wise multi-threading, the overhead of testing was 0.000324 seconds.  \n",
    "You can set `force_row_wise=true` to remove the overhead.  \n",
    "And if memory is not enough, you can set `force_col_wise=true`.  \n",
    "[LightGBM] [Info] Total Bins 403  \n",
    "[LightGBM] [Info] Number of data points in the train set: 11999, number of used features: 9  \n",
    "[LightGBM] [Info] [binary:BoostFromScore]: pavg=0.238770 -> initscore=-1.159435  \n",
    "[LightGBM] [Info] Start training from score -1.159435  \n",
    "\n",
    "| Real Values | Random Forest Prediction | XGBoost Prediction | CatBoost Prediction | LightGBM Prediction |  \n",
    "|-------------|---------------------------|---------------------|---------------------|---------------------|  \n",
    "| 6723        | 0                         | 0                   | 0                   | 0                   |  \n",
    "| 6473        | 0                         | 0                   | 0                   | 0                   |  \n",
    "| 4679        | 0                         | 0                   | 0                   | 0                   |  \n",
    "| 862         | 1                         | 1                   | 1                   | 1                   |  \n",
    "| 7286        | 0                         | 0                   | 0                   | 0                   |\n"
   ]
  },
  {
   "cell_type": "markdown",
   "id": "c4647e95-514b-4a5c-9429-dc12a15ac451",
   "metadata": {},
   "source": [
    "#### Conclusions:\n",
    "1) Random Forest, XGBoost, CatBoost, and LightGBM: All models are predicting 0 for most instances, indicating a potential bias towards the majority class.\n",
    "2) The models show promising results in terms of making accurate predictions, particularly for the majority class, but further steps (like balancing the dataset or focusing on minority class performance) could improve performance on the positive class.\n",
    "\n",
    "#### Model Comparison:\n",
    "1) Random Forest: As a tree-based model, it seems to handle both classes well, with predictions matching the actual values most of the time.\n",
    "2) XGBoost: Similarly, XGBoost appears to perform well, although in some cases (like row 4679), it does not perfectly match the real values.\n",
    "3) CatBoost: CatBoost also performs well, but slightly fewer perfect matches in comparison to Random Forest and XGBoost.\n",
    "4) LightGBM: It seems to follow the same pattern as CatBoost, with accurate predictions for most of the dataset but occasional discrepancies (e.g., row 4679)."
   ]
  },
  {
   "cell_type": "markdown",
   "id": "0d5521b9-1822-43fc-a32a-8f7c7a7da61c",
   "metadata": {},
   "source": [
    "4) `Output a dataframe with the following information: rows correspond to models; columns correspond to the accuracy metric computed on the training set and on the test set.`\n"
   ]
  },
  {
   "cell_type": "code",
   "execution_count": 206,
   "id": "b6a4e74c-06a1-460b-8e8c-741212587444",
   "metadata": {},
   "outputs": [
    {
     "name": "stdout",
     "output_type": "stream",
     "text": [
      "[LightGBM] [Info] Number of positive: 2865, number of negative: 9134\n",
      "[LightGBM] [Info] Auto-choosing row-wise multi-threading, the overhead of testing was 0.000345 seconds.\n",
      "You can set `force_row_wise=true` to remove the overhead.\n",
      "And if memory is not enough, you can set `force_col_wise=true`.\n",
      "[LightGBM] [Info] Total Bins 403\n",
      "[LightGBM] [Info] Number of data points in the train set: 11999, number of used features: 9\n",
      "[LightGBM] [Info] [binary:BoostFromScore]: pavg=0.238770 -> initscore=-1.159435\n",
      "[LightGBM] [Info] Start training from score -1.159435\n",
      "           Model  Train Accuracy  Test Accuracy\n",
      "0  Random Forest        0.999917       0.988333\n",
      "1        XGBoost        0.997500       0.987667\n",
      "2       CatBoost        0.992583       0.985667\n",
      "3       LightGBM        0.996000       0.986333\n"
     ]
    }
   ],
   "source": [
    "# Dictionary to store the accuracy results for each model\n",
    "accuracy_results = []\n",
    "\n",
    "# Calculate accuracy for each model on both the training and test sets\n",
    "for model_name, model in models.items():\n",
    "    # Train the model with the optimal parameters\n",
    "    model.fit(X_train_scaled_full, Y_train)\n",
    "    \n",
    "    # Predict on training data\n",
    "    train_pred = model.predict(X_train_scaled_full)\n",
    "    \n",
    "    # Predict on test data\n",
    "    test_pred = model.predict(X_test_scaled_full)\n",
    "    \n",
    "    # Calculate accuracy on training and test sets\n",
    "    train_accuracy = accuracy_score(Y_train, train_pred)\n",
    "    test_accuracy = accuracy_score(Y_test, test_pred)\n",
    "    \n",
    "    # Store results in the dictionary\n",
    "    accuracy_results.append({\n",
    "        'Model': model_name,\n",
    "        'Train Accuracy': train_accuracy,\n",
    "        'Test Accuracy': test_accuracy\n",
    "    })\n",
    "\n",
    "# Create a DataFrame from the accuracy results\n",
    "accuracy_df = pd.DataFrame(accuracy_results)\n",
    "\n",
    "# Display the accuracy DataFrame\n",
    "print(accuracy_df)\n"
   ]
  },
  {
   "cell_type": "markdown",
   "id": "ccaf8914-5d2b-4afa-8471-95a40e483efc",
   "metadata": {},
   "source": [
    "[LightGBM] [Info] Number of positive: 2865, number of negative: 9134  \n",
    "[LightGBM] [Info] Auto-choosing row-wise multi-threading, the overhead of testing was 0.000386 seconds.  \n",
    "You can set `force_row_wise=true` to remove the overhead.  \n",
    "And if memory is not enough, you can set `force_col_wise=true`.  \n",
    "[LightGBM] [Info] Total Bins 403  \n",
    "[LightGBM] [Info] Number of data points in the train set: 11999, number of used features: 9  \n",
    "[LightGBM] [Info] [binary:BoostFromScore]: pavg=0.238770 -> initscore=-1.159435  \n",
    "[LightGBM] [Info] Start training from score -1.159435  \n",
    "\n",
    "| Model        | Train Accuracy | Test Accuracy |\n",
    "|--------------|----------------|---------------|\n",
    "| Random Forest| 0.999917       | 0.988333      |\n",
    "| XGBoost      | 0.997500       | 0.987667      |\n",
    "| CatBoost     | 0.992583       | 0.985667      |\n",
    "| LightGBM     | 0.996000       | 0.986333      |\n"
   ]
  },
  {
   "cell_type": "markdown",
   "id": "447340e1-3ea1-44dc-9931-64eac22e9801",
   "metadata": {},
   "source": [
    "1) Random Forest:\n",
    "- Train Accuracy: 0.999917 (indicating almost perfect fitting on training data).\n",
    "- Test Accuracy: 0.988333 (highest among all models).\n",
    "- Insight: Random Forest demonstrates exceptional generalization, with the highest test accuracy and near-perfect training accuracy. This suggests it is well-suited for the dataset while avoiding significant overfitting.\n",
    "2) XGBoost:\n",
    "- Train Accuracy: 0.997500.\n",
    "- Test Accuracy: 0.987667.\n",
    "- Insight: XGBoost closely follows Random Forest in test accuracy. The slight gap between train and test accuracies indicates robust performance without overfitting.\n",
    "3) LightGBM:\n",
    "- Train Accuracy: 0.996000.\n",
    "- Test Accuracy: 0.986333.\n",
    "- Insight: LightGBM also shows strong performance, with a test accuracy slightly lower than Random Forest and XGBoost. It is still a reliable model for this dataset.\n",
    "4) CatBoost:\n",
    "- Train Accuracy: 0.992583.\n",
    "- Test Accuracy: 0.985667.\n",
    "- Insight: CatBoost performs well, although it has the lowest accuracy among the four. The minimal gap between train and test accuracies suggests good generalization."
   ]
  },
  {
   "cell_type": "markdown",
   "id": "97d91e10-a551-4619-8886-008d5f219873",
   "metadata": {},
   "source": [
    "5) `Output the confusion matrix for the observations of the test set for one of the cross validations for all newly created models.`\n"
   ]
  },
  {
   "cell_type": "code",
   "execution_count": 239,
   "id": "08cad0de-3b04-4a49-8122-9987e010622c",
   "metadata": {},
   "outputs": [
    {
     "name": "stdout",
     "output_type": "stream",
     "text": [
      "[LightGBM] [Info] Number of positive: 2865, number of negative: 9134\n",
      "[LightGBM] [Info] Auto-choosing row-wise multi-threading, the overhead of testing was 0.000373 seconds.\n",
      "You can set `force_row_wise=true` to remove the overhead.\n",
      "And if memory is not enough, you can set `force_col_wise=true`.\n",
      "[LightGBM] [Info] Total Bins 403\n",
      "[LightGBM] [Info] Number of data points in the train set: 11999, number of used features: 9\n",
      "[LightGBM] [Info] [binary:BoostFromScore]: pavg=0.238770 -> initscore=-1.159435\n",
      "[LightGBM] [Info] Start training from score -1.159435\n",
      "[[2286    8]\n",
      " [  26  680]]\n"
     ]
    },
    {
     "data": {
      "image/png": "[encoded data removed]",
      "text/plain": [
       "<Figure size 600x500 with 2 Axes>"
      ]
     },
     "metadata": {},
     "output_type": "display_data"
    },
    {
     "name": "stdout",
     "output_type": "stream",
     "text": [
      "[[2283   11]\n",
      " [  23  683]]\n"
     ]
    },
    {
     "data": {
      "image/png": "[encoded data removed]",
      "text/plain": [
       "<Figure size 600x500 with 2 Axes>"
      ]
     },
     "metadata": {},
     "output_type": "display_data"
    },
    {
     "name": "stdout",
     "output_type": "stream",
     "text": [
      "[[2281   13]\n",
      " [  25  681]]\n"
     ]
    },
    {
     "data": {
      "image/png": "[encoded data removed]",
      "text/plain": [
       "<Figure size 600x500 with 2 Axes>"
      ]
     },
     "metadata": {},
     "output_type": "display_data"
    },
    {
     "name": "stdout",
     "output_type": "stream",
     "text": [
      "[[2284   10]\n",
      " [  24  682]]\n"
     ]
    },
    {
     "data": {
      "image/png": "[encoded data removed]",
      "text/plain": [
       "<Figure size 600x500 with 2 Axes>"
      ]
     },
     "metadata": {},
     "output_type": "display_data"
    }
   ],
   "source": [
    "rf_model = RandomForestClassifier(random_state=42, max_depth=20, min_samples_split=2, n_estimators=200)\n",
    "xgb_model = xgb.XGBClassifier(random_state=42, learning_rate=0.3, max_depth=7, n_estimators=100)\n",
    "catboost_model = CatBoostClassifier(random_state=42, depth=10, iterations=200, learning_rate=0.1, verbose=0)\n",
    "lgb_model = lgb.LGBMClassifier(random_state=42, learning_rate=0.1, max_depth=10, n_estimators=200, num_leaves=31)\n",
    "\n",
    "# Train the models\n",
    "rf_model.fit(X_train_scaled_full, Y_train)\n",
    "xgb_model.fit(X_train_scaled_full, Y_train)\n",
    "catboost_model.fit(X_train_scaled_full, Y_train)\n",
    "lgb_model.fit(X_train_scaled_full, Y_train)\n",
    "\n",
    "# Models dictionary for easy access\n",
    "models = {\n",
    "    \"Random Forest\": rf_model,\n",
    "    \"XGBoost\": xgb_model,\n",
    "    \"CatBoost\": catboost_model,\n",
    "    \"LightGBM\": lgb_model\n",
    "}\n",
    "\n",
    "# Predict for the test set using each model\n",
    "predictions = {}\n",
    "for model_name, model in models.items():\n",
    "    y_pred = model.predict(X_test_scaled_full)  # Using the test set\n",
    "    predictions[model_name] = y_pred\n",
    "\n",
    "# Plot confusion matrices for each model\n",
    "for model_name, y_pred in predictions.items():\n",
    "    cm = confusion_matrix(Y_test, y_pred) # Compute the confusion matrix\n",
    "    print(cm)\n",
    "    plt.figure(figsize=(6, 5))\n",
    "    sns.heatmap(cm, annot=True, fmt='d', cmap='Blues', xticklabels=['No', 'Yes'], yticklabels=['No', 'Yes'])\n",
    "    plt.title(f\"Confusion Matrix for {model_name}\")\n",
    "    plt.xlabel(\"Predicted\")\n",
    "    plt.ylabel(\"Actual\")\n",
    "    plt.show()"
   ]
  },
  {
   "cell_type": "markdown",
   "id": "dd4ffa09-af40-4b9c-a08f-a22626f9543b",
   "metadata": {},
   "source": [
    "[LightGBM] [Info] Number of positive: 2865, number of negative: 9134  \n",
    "[LightGBM] [Info] Auto-choosing row-wise multi-threading, the overhead of testing was 0.000381 seconds.  \n",
    "You can set `force_row_wise=true` to remove the overhead.  \n",
    "And if memory is not enough, you can set `force_col_wise=true`.  \n",
    "\n",
    "[LightGBM] [Info] Total Bins 403  \n",
    "[LightGBM] [Info] Number of data points in the train set: 11999, number of used features: 9  \n",
    "[LightGBM] [Info] [binary:BoostFromScore]: pavg=0.238770 -> initscore=-1.159435  \n",
    "[LightGBM] [Info] Start training from score -1.159435\n"
   ]
  },
  {
   "cell_type": "markdown",
   "id": "de24938c-e5d8-4a6b-af77-24b286c040ae",
   "metadata": {},
   "source": [
    "#### Random forest confusion matrix \n",
    "[[2286    8]\n",
    " [  26  680]]\n",
    "\n",
    " #### XG Boost confusion matrix \n",
    " [[2283   11]\n",
    " [  23  683]]\n",
    "\n",
    " #### Cat Boost confusion matrix \n",
    " [[2281   13]\n",
    " [  25  681]]\n",
    "\n",
    " #### LightGBM confusion matrix \n",
    " [[2284   10]\n",
    " [  24  682]]"
   ]
  },
  {
   "cell_type": "markdown",
   "id": "1877176a-f764-4e0b-914f-66873696d62a",
   "metadata": {},
   "source": [
    "6) `Make a conclusion about the best-performed model comparing 8 previously built models (assignments 1-2) considering classification accuracy calculated on the test set.`\n"
   ]
  },
  {
   "cell_type": "code",
   "execution_count": 214,
   "id": "ef52184f-76dd-495d-b9ea-8c2cb4e6e0d3",
   "metadata": {},
   "outputs": [
    {
     "name": "stdout",
     "output_type": "stream",
     "text": [
      "Best-Performed Model Based on Test Accuracy:\n",
      "                 Model  Test Accuracy\n",
      "0        Random Forest       0.988333\n",
      "1              XGBoost       0.987667\n",
      "3             LightGBM       0.986333\n",
      "2             CatBoost       0.985667\n",
      "5        Decision Tree       0.979700\n",
      "6                  KNN       0.956200\n",
      "7                  SVC       0.793500\n",
      "4  Logistic Regression       0.780700\n",
      "\n",
      "Conclusion: The best-performing model based on test accuracy is Random Forest with a test accuracy of 0.9883.\n"
     ]
    }
   ],
   "source": [
    "# Test accuracies for each model from previous results\n",
    "models_test_accuracies = {\n",
    "    'Random Forest': 0.988333,\n",
    "    'XGBoost': 0.987667,\n",
    "    'CatBoost': 0.985667,\n",
    "    'LightGBM': 0.986333,\n",
    "    'Logistic Regression': 0.7807,\n",
    "    'Decision Tree': 0.9797,\n",
    "    'KNN': 0.9562,\n",
    "    'SVC': 0.7935\n",
    "}\n",
    "\n",
    "# Convert to a DataFrame for better readability\n",
    "accuracies_df = pd.DataFrame(list(models_test_accuracies.items()), columns=['Model', 'Test Accuracy'])\n",
    "\n",
    "# Sort by test accuracy to determine the best model\n",
    "accuracies_df = accuracies_df.sort_values(by='Test Accuracy', ascending=False)\n",
    "\n",
    "# Display the results\n",
    "print(\"Best-Performed Model Based on Test Accuracy:\")\n",
    "print(accuracies_df)\n",
    "\n",
    "# Conclusion based on the highest test accuracy\n",
    "best_model = accuracies_df.iloc[0]['Model']\n",
    "best_accuracy = accuracies_df.iloc[0]['Test Accuracy']\n",
    "\n",
    "print(f\"\\nConclusion: The best-performing model based on test accuracy is {best_model} with a test accuracy of {best_accuracy:.4f}.\")\n"
   ]
  },
  {
   "cell_type": "markdown",
   "id": "3b60e1b7-e9c8-48be-ba35-f0d051f0864b",
   "metadata": {},
   "source": [
    "#### Best-Performed Model Based on Test Accuracy:\n",
    "\n",
    "| Model             | Test Accuracy |\n",
    "|-------------------|---------------|\n",
    "| Random Forest     | 0.988333      |\n",
    "| XGBoost           | 0.987667      |\n",
    "| LightGBM          | 0.986333      |\n",
    "| CatBoost          | 0.985667      |\n",
    "| Decision Tree     | 0.979700      |\n",
    "| KNN               | 0.956200      |\n",
    "| SVC               | 0.793500      |\n",
    "| Logistic Regression | 0.780700    |\n"
   ]
  },
  {
   "cell_type": "markdown",
   "id": "5935dad8-568c-44d6-a3ac-9846515f0765",
   "metadata": {},
   "source": [
    "#### Conclusion:\n",
    "The best-performing model based on test accuracy is **Random Forest** with a test accuracy of **0.9883**.\n"
   ]
  },
  {
   "cell_type": "markdown",
   "id": "b08b832e-35ba-4285-9092-12145cf48075",
   "metadata": {},
   "source": [
    "7) `Select 3 best models for your dataset based on the accuracy metric and plot the results with Plotly Bar plot.`"
   ]
  },
  {
   "cell_type": "code",
   "execution_count": 218,
   "id": "4ab6b5fb-1930-405e-976e-c21b127a6e45",
   "metadata": {},
   "outputs": [
    {
     "data": {
      "application/vnd.plotly.v1+json": {
       "config": {
        "plotlyServerURL": "https://plot.ly"
       },
       "data": [
        {
         "alignmentgroup": "True",
         "hovertemplate": "Model=%{x}<br>Test Accuracy=%{y}<extra></extra>",
         "legendgroup": "Random Forest",
         "marker": {
          "color": "rgb(102,194,165)",
          "pattern": {
           "shape": ""
          }
         },
         "name": "Random Forest",
         "offsetgroup": "Random Forest",
         "orientation": "v",
         "showlegend": true,
         "textposition": "auto",
         "type": "bar",
         "x": [
          "Random Forest"
         ],
         "xaxis": "x",
         "y": [
          0.988333
         ],
         "yaxis": "y"
        },
        {
         "alignmentgroup": "True",
         "hovertemplate": "Model=%{x}<br>Test Accuracy=%{y}<extra></extra>",
         "legendgroup": "XGBoost",
         "marker": {
          "color": "rgb(252,141,98)",
          "pattern": {
           "shape": ""
          }
         },
         "name": "XGBoost",
         "offsetgroup": "XGBoost",
         "orientation": "v",
         "showlegend": true,
         "textposition": "auto",
         "type": "bar",
         "x": [
          "XGBoost"
         ],
         "xaxis": "x",
         "y": [
          0.987667
         ],
         "yaxis": "y"
        },
        {
         "alignmentgroup": "True",
         "hovertemplate": "Model=%{x}<br>Test Accuracy=%{y}<extra></extra>",
         "legendgroup": "LightGBM",
         "marker": {
          "color": "rgb(141,160,203)",
          "pattern": {
           "shape": ""
          }
         },
         "name": "LightGBM",
         "offsetgroup": "LightGBM",
         "orientation": "v",
         "showlegend": true,
         "textposition": "auto",
         "type": "bar",
         "x": [
          "LightGBM"
         ],
         "xaxis": "x",
         "y": [
          0.986333
         ],
         "yaxis": "y"
        }
       ],
       "layout": {
        "autosize": true,
        "barmode": "relative",
        "legend": {
         "title": {
          "text": "Model"
         },
         "tracegroupgap": 0
        },
        "template": {
         "data": {
          "bar": [
           {
            "error_x": {
             "color": "#2a3f5f"
            },
            "error_y": {
             "color": "#2a3f5f"
            },
            "marker": {
             "line": {
              "color": "#E5ECF6",
              "width": 0.5
             },
             "pattern": {
              "fillmode": "overlay",
              "size": 10,
              "solidity": 0.2
             }
            },
            "type": "bar"
           }
          ],
          "barpolar": [
           {
            "marker": {
             "line": {
              "color": "#E5ECF6",
              "width": 0.5
             },
             "pattern": {
              "fillmode": "overlay",
              "size": 10,
              "solidity": 0.2
             }
            },
            "type": "barpolar"
           }
          ],
          "carpet": [
           {
            "aaxis": {
             "endlinecolor": "#2a3f5f",
             "gridcolor": "white",
             "linecolor": "white",
             "minorgridcolor": "white",
             "startlinecolor": "#2a3f5f"
            },
            "baxis": {
             "endlinecolor": "#2a3f5f",
             "gridcolor": "white",
             "linecolor": "white",
             "minorgridcolor": "white",
             "startlinecolor": "#2a3f5f"
            },
            "type": "carpet"
           }
          ],
          "choropleth": [
           {
            "colorbar": {
             "outlinewidth": 0,
             "ticks": ""
            },
            "type": "choropleth"
           }
          ],
          "contour": [
           {
            "colorbar": {
             "outlinewidth": 0,
             "ticks": ""
            },
            "colorscale": [
             [
              0,
              "#0d0887"
             ],
             [
              0.1111111111111111,
              "#46039f"
             ],
             [
              0.2222222222222222,
              "#7201a8"
             ],
             [
              0.3333333333333333,
              "#9c179e"
             ],
             [
              0.4444444444444444,
              "#bd3786"
             ],
             [
              0.5555555555555556,
              "#d8576b"
             ],
             [
              0.6666666666666666,
              "#ed7953"
             ],
             [
              0.7777777777777778,
              "#fb9f3a"
             ],
             [
              0.8888888888888888,
              "#fdca26"
             ],
             [
              1,
              "#f0f921"
             ]
            ],
            "type": "contour"
           }
          ],
          "contourcarpet": [
           {
            "colorbar": {
             "outlinewidth": 0,
             "ticks": ""
            },
            "type": "contourcarpet"
           }
          ],
          "heatmap": [
           {
            "colorbar": {
             "outlinewidth": 0,
             "ticks": ""
            },
            "colorscale": [
             [
              0,
              "#0d0887"
             ],
             [
              0.1111111111111111,
              "#46039f"
             ],
             [
              0.2222222222222222,
              "#7201a8"
             ],
             [
              0.3333333333333333,
              "#9c179e"
             ],
             [
              0.4444444444444444,
              "#bd3786"
             ],
             [
              0.5555555555555556,
              "#d8576b"
             ],
             [
              0.6666666666666666,
              "#ed7953"
             ],
             [
              0.7777777777777778,
              "#fb9f3a"
             ],
             [
              0.8888888888888888,
              "#fdca26"
             ],
             [
              1,
              "#f0f921"
             ]
            ],
            "type": "heatmap"
           }
          ],
          "heatmapgl": [
           {
            "colorbar": {
             "outlinewidth": 0,
             "ticks": ""
            },
            "colorscale": [
             [
              0,
              "#0d0887"
             ],
             [
              0.1111111111111111,
              "#46039f"
             ],
             [
              0.2222222222222222,
              "#7201a8"
             ],
             [
              0.3333333333333333,
              "#9c179e"
             ],
             [
              0.4444444444444444,
              "#bd3786"
             ],
             [
              0.5555555555555556,
              "#d8576b"
             ],
             [
              0.6666666666666666,
              "#ed7953"
             ],
             [
              0.7777777777777778,
              "#fb9f3a"
             ],
             [
              0.8888888888888888,
              "#fdca26"
             ],
             [
              1,
              "#f0f921"
             ]
            ],
            "type": "heatmapgl"
           }
          ],
          "histogram": [
           {
            "marker": {
             "pattern": {
              "fillmode": "overlay",
              "size": 10,
              "solidity": 0.2
             }
            },
            "type": "histogram"
           }
          ],
          "histogram2d": [
           {
            "colorbar": {
             "outlinewidth": 0,
             "ticks": ""
            },
            "colorscale": [
             [
              0,
              "#0d0887"
             ],
             [
              0.1111111111111111,
              "#46039f"
             ],
             [
              0.2222222222222222,
              "#7201a8"
             ],
             [
              0.3333333333333333,
              "#9c179e"
             ],
             [
              0.4444444444444444,
              "#bd3786"
             ],
             [
              0.5555555555555556,
              "#d8576b"
             ],
             [
              0.6666666666666666,
              "#ed7953"
             ],
             [
              0.7777777777777778,
              "#fb9f3a"
             ],
             [
              0.8888888888888888,
              "#fdca26"
             ],
             [
              1,
              "#f0f921"
             ]
            ],
            "type": "histogram2d"
           }
          ],
          "histogram2dcontour": [
           {
            "colorbar": {
             "outlinewidth": 0,
             "ticks": ""
            },
            "colorscale": [
             [
              0,
              "#0d0887"
             ],
             [
              0.1111111111111111,
              "#46039f"
             ],
             [
              0.2222222222222222,
              "#7201a8"
             ],
             [
              0.3333333333333333,
              "#9c179e"
             ],
             [
              0.4444444444444444,
              "#bd3786"
             ],
             [
              0.5555555555555556,
              "#d8576b"
             ],
             [
              0.6666666666666666,
              "#ed7953"
             ],
             [
              0.7777777777777778,
              "#fb9f3a"
             ],
             [
              0.8888888888888888,
              "#fdca26"
             ],
             [
              1,
              "#f0f921"
             ]
            ],
            "type": "histogram2dcontour"
           }
          ],
          "mesh3d": [
           {
            "colorbar": {
             "outlinewidth": 0,
             "ticks": ""
            },
            "type": "mesh3d"
           }
          ],
          "parcoords": [
           {
            "line": {
             "colorbar": {
              "outlinewidth": 0,
              "ticks": ""
             }
            },
            "type": "parcoords"
           }
          ],
          "pie": [
           {
            "automargin": true,
            "type": "pie"
           }
          ],
          "scatter": [
           {
            "fillpattern": {
             "fillmode": "overlay",
             "size": 10,
             "solidity": 0.2
            },
            "type": "scatter"
           }
          ],
          "scatter3d": [
           {
            "line": {
             "colorbar": {
              "outlinewidth": 0,
              "ticks": ""
             }
            },
            "marker": {
             "colorbar": {
              "outlinewidth": 0,
              "ticks": ""
             }
            },
            "type": "scatter3d"
           }
          ],
          "scattercarpet": [
           {
            "marker": {
             "colorbar": {
              "outlinewidth": 0,
              "ticks": ""
             }
            },
            "type": "scattercarpet"
           }
          ],
          "scattergeo": [
           {
            "marker": {
             "colorbar": {
              "outlinewidth": 0,
              "ticks": ""
             }
            },
            "type": "scattergeo"
           }
          ],
          "scattergl": [
           {
            "marker": {
             "colorbar": {
              "outlinewidth": 0,
              "ticks": ""
             }
            },
            "type": "scattergl"
           }
          ],
          "scattermapbox": [
           {
            "marker": {
             "colorbar": {
              "outlinewidth": 0,
              "ticks": ""
             }
            },
            "type": "scattermapbox"
           }
          ],
          "scatterpolar": [
           {
            "marker": {
             "colorbar": {
              "outlinewidth": 0,
              "ticks": ""
             }
            },
            "type": "scatterpolar"
           }
          ],
          "scatterpolargl": [
           {
            "marker": {
             "colorbar": {
              "outlinewidth": 0,
              "ticks": ""
             }
            },
            "type": "scatterpolargl"
           }
          ],
          "scatterternary": [
           {
            "marker": {
             "colorbar": {
              "outlinewidth": 0,
              "ticks": ""
             }
            },
            "type": "scatterternary"
           }
          ],
          "surface": [
           {
            "colorbar": {
             "outlinewidth": 0,
             "ticks": ""
            },
            "colorscale": [
             [
              0,
              "#0d0887"
             ],
             [
              0.1111111111111111,
              "#46039f"
             ],
             [
              0.2222222222222222,
              "#7201a8"
             ],
             [
              0.3333333333333333,
              "#9c179e"
             ],
             [
              0.4444444444444444,
              "#bd3786"
             ],
             [
              0.5555555555555556,
              "#d8576b"
             ],
             [
              0.6666666666666666,
              "#ed7953"
             ],
             [
              0.7777777777777778,
              "#fb9f3a"
             ],
             [
              0.8888888888888888,
              "#fdca26"
             ],
             [
              1,
              "#f0f921"
             ]
            ],
            "type": "surface"
           }
          ],
          "table": [
           {
            "cells": {
             "fill": {
              "color": "#EBF0F8"
             },
             "line": {
              "color": "white"
             }
            },
            "header": {
             "fill": {
              "color": "#C8D4E3"
             },
             "line": {
              "color": "white"
             }
            },
            "type": "table"
           }
          ]
         },
         "layout": {
          "annotationdefaults": {
           "arrowcolor": "#2a3f5f",
           "arrowhead": 0,
           "arrowwidth": 1
          },
          "autotypenumbers": "strict",
          "coloraxis": {
           "colorbar": {
            "outlinewidth": 0,
            "ticks": ""
           }
          },
          "colorscale": {
           "diverging": [
            [
             0,
             "#8e0152"
            ],
            [
             0.1,
             "#c51b7d"
            ],
            [
             0.2,
             "#de77ae"
            ],
            [
             0.3,
             "#f1b6da"
            ],
            [
             0.4,
             "#fde0ef"
            ],
            [
             0.5,
             "#f7f7f7"
            ],
            [
             0.6,
             "#e6f5d0"
            ],
            [
             0.7,
             "#b8e186"
            ],
            [
             0.8,
             "#7fbc41"
            ],
            [
             0.9,
             "#4d9221"
            ],
            [
             1,
             "#276419"
            ]
           ],
           "sequential": [
            [
             0,
             "#0d0887"
            ],
            [
             0.1111111111111111,
             "#46039f"
            ],
            [
             0.2222222222222222,
             "#7201a8"
            ],
            [
             0.3333333333333333,
             "#9c179e"
            ],
            [
             0.4444444444444444,
             "#bd3786"
            ],
            [
             0.5555555555555556,
             "#d8576b"
            ],
            [
             0.6666666666666666,
             "#ed7953"
            ],
            [
             0.7777777777777778,
             "#fb9f3a"
            ],
            [
             0.8888888888888888,
             "#fdca26"
            ],
            [
             1,
             "#f0f921"
            ]
           ],
           "sequentialminus": [
            [
             0,
             "#0d0887"
            ],
            [
             0.1111111111111111,
             "#46039f"
            ],
            [
             0.2222222222222222,
             "#7201a8"
            ],
            [
             0.3333333333333333,
             "#9c179e"
            ],
            [
             0.4444444444444444,
             "#bd3786"
            ],
            [
             0.5555555555555556,
             "#d8576b"
            ],
            [
             0.6666666666666666,
             "#ed7953"
            ],
            [
             0.7777777777777778,
             "#fb9f3a"
            ],
            [
             0.8888888888888888,
             "#fdca26"
            ],
            [
             1,
             "#f0f921"
            ]
           ]
          },
          "colorway": [
           "#636efa",
           "#EF553B",
           "#00cc96",
           "#ab63fa",
           "#FFA15A",
           "#19d3f3",
           "#FF6692",
           "#B6E880",
           "#FF97FF",
           "#FECB52"
          ],
          "font": {
           "color": "#2a3f5f"
          },
          "geo": {
           "bgcolor": "white",
           "lakecolor": "white",
           "landcolor": "#E5ECF6",
           "showlakes": true,
           "showland": true,
           "subunitcolor": "white"
          },
          "hoverlabel": {
           "align": "left"
          },
          "hovermode": "closest",
          "mapbox": {
           "style": "light"
          },
          "paper_bgcolor": "white",
          "plot_bgcolor": "#E5ECF6",
          "polar": {
           "angularaxis": {
            "gridcolor": "white",
            "linecolor": "white",
            "ticks": ""
           },
           "bgcolor": "#E5ECF6",
           "radialaxis": {
            "gridcolor": "white",
            "linecolor": "white",
            "ticks": ""
           }
          },
          "scene": {
           "xaxis": {
            "backgroundcolor": "#E5ECF6",
            "gridcolor": "white",
            "gridwidth": 2,
            "linecolor": "white",
            "showbackground": true,
            "ticks": "",
            "zerolinecolor": "white"
           },
           "yaxis": {
            "backgroundcolor": "#E5ECF6",
            "gridcolor": "white",
            "gridwidth": 2,
            "linecolor": "white",
            "showbackground": true,
            "ticks": "",
            "zerolinecolor": "white"
           },
           "zaxis": {
            "backgroundcolor": "#E5ECF6",
            "gridcolor": "white",
            "gridwidth": 2,
            "linecolor": "white",
            "showbackground": true,
            "ticks": "",
            "zerolinecolor": "white"
           }
          },
          "shapedefaults": {
           "line": {
            "color": "#2a3f5f"
           }
          },
          "ternary": {
           "aaxis": {
            "gridcolor": "white",
            "linecolor": "white",
            "ticks": ""
           },
           "baxis": {
            "gridcolor": "white",
            "linecolor": "white",
            "ticks": ""
           },
           "bgcolor": "#E5ECF6",
           "caxis": {
            "gridcolor": "white",
            "linecolor": "white",
            "ticks": ""
           }
          },
          "title": {
           "x": 0.05
          },
          "xaxis": {
           "automargin": true,
           "gridcolor": "white",
           "linecolor": "white",
           "ticks": "",
           "title": {
            "standoff": 15
           },
           "zerolinecolor": "white",
           "zerolinewidth": 2
          },
          "yaxis": {
           "automargin": true,
           "gridcolor": "white",
           "linecolor": "white",
           "ticks": "",
           "title": {
            "standoff": 15
           },
           "zerolinecolor": "white",
           "zerolinewidth": 2
          }
         }
        },
        "title": {
         "text": "Top 3 Best Performing Models Based on Test Accuracy"
        },
        "xaxis": {
         "anchor": "y",
         "autorange": true,
         "categoryarray": [
          "Random Forest",
          "XGBoost",
          "LightGBM"
         ],
         "categoryorder": "array",
         "domain": [
          0,
          1
         ],
         "range": [
          -0.5,
          2.5
         ],
         "title": {
          "text": "Model"
         },
         "type": "category"
        },
        "yaxis": {
         "anchor": "x",
         "autorange": true,
         "domain": [
          0,
          1
         ],
         "range": [
          0,
          1.0403505263157895
         ],
         "title": {
          "text": "Test Accuracy"
         },
         "type": "linear"
        }
       }
      },
      "image/png": "[encoded data removed]",
      "text/html": [
       "<div>                            <div id=\"98a13733-7f30-4342-904c-ec8334871ab9\" class=\"plotly-graph-div\" style=\"height:525px; width:100%;\"></div>            <script type=\"text/javascript\">                require([\"plotly\"], function(Plotly) {                    window.PLOTLYENV=window.PLOTLYENV || {};                                    if (document.getElementById(\"98a13733-7f30-4342-904c-ec8334871ab9\")) {                    Plotly.newPlot(                        \"98a13733-7f30-4342-904c-ec8334871ab9\",                        [{\"alignmentgroup\":\"True\",\"hovertemplate\":\"Model=%{x}\\u003cbr\\u003eTest Accuracy=%{y}\\u003cextra\\u003e\\u003c\\u002fextra\\u003e\",\"legendgroup\":\"Random Forest\",\"marker\":{\"color\":\"rgb(102,194,165)\",\"pattern\":{\"shape\":\"\"}},\"name\":\"Random Forest\",\"offsetgroup\":\"Random Forest\",\"orientation\":\"v\",\"showlegend\":true,\"textposition\":\"auto\",\"x\":[\"Random Forest\"],\"xaxis\":\"x\",\"y\":[0.988333],\"yaxis\":\"y\",\"type\":\"bar\"},{\"alignmentgroup\":\"True\",\"hovertemplate\":\"Model=%{x}\\u003cbr\\u003eTest Accuracy=%{y}\\u003cextra\\u003e\\u003c\\u002fextra\\u003e\",\"legendgroup\":\"XGBoost\",\"marker\":{\"color\":\"rgb(252,141,98)\",\"pattern\":{\"shape\":\"\"}},\"name\":\"XGBoost\",\"offsetgroup\":\"XGBoost\",\"orientation\":\"v\",\"showlegend\":true,\"textposition\":\"auto\",\"x\":[\"XGBoost\"],\"xaxis\":\"x\",\"y\":[0.987667],\"yaxis\":\"y\",\"type\":\"bar\"},{\"alignmentgroup\":\"True\",\"hovertemplate\":\"Model=%{x}\\u003cbr\\u003eTest Accuracy=%{y}\\u003cextra\\u003e\\u003c\\u002fextra\\u003e\",\"legendgroup\":\"LightGBM\",\"marker\":{\"color\":\"rgb(141,160,203)\",\"pattern\":{\"shape\":\"\"}},\"name\":\"LightGBM\",\"offsetgroup\":\"LightGBM\",\"orientation\":\"v\",\"showlegend\":true,\"textposition\":\"auto\",\"x\":[\"LightGBM\"],\"xaxis\":\"x\",\"y\":[0.986333],\"yaxis\":\"y\",\"type\":\"bar\"}],                        {\"template\":{\"data\":{\"histogram2dcontour\":[{\"type\":\"histogram2dcontour\",\"colorbar\":{\"outlinewidth\":0,\"ticks\":\"\"},\"colorscale\":[[0.0,\"#0d0887\"],[0.1111111111111111,\"#46039f\"],[0.2222222222222222,\"#7201a8\"],[0.3333333333333333,\"#9c179e\"],[0.4444444444444444,\"#bd3786\"],[0.5555555555555556,\"#d8576b\"],[0.6666666666666666,\"#ed7953\"],[0.7777777777777778,\"#fb9f3a\"],[0.8888888888888888,\"#fdca26\"],[1.0,\"#f0f921\"]]}],\"choropleth\":[{\"type\":\"choropleth\",\"colorbar\":{\"outlinewidth\":0,\"ticks\":\"\"}}],\"histogram2d\":[{\"type\":\"histogram2d\",\"colorbar\":{\"outlinewidth\":0,\"ticks\":\"\"},\"colorscale\":[[0.0,\"#0d0887\"],[0.1111111111111111,\"#46039f\"],[0.2222222222222222,\"#7201a8\"],[0.3333333333333333,\"#9c179e\"],[0.4444444444444444,\"#bd3786\"],[0.5555555555555556,\"#d8576b\"],[0.6666666666666666,\"#ed7953\"],[0.7777777777777778,\"#fb9f3a\"],[0.8888888888888888,\"#fdca26\"],[1.0,\"#f0f921\"]]}],\"heatmap\":[{\"type\":\"heatmap\",\"colorbar\":{\"outlinewidth\":0,\"ticks\":\"\"},\"colorscale\":[[0.0,\"#0d0887\"],[0.1111111111111111,\"#46039f\"],[0.2222222222222222,\"#7201a8\"],[0.3333333333333333,\"#9c179e\"],[0.4444444444444444,\"#bd3786\"],[0.5555555555555556,\"#d8576b\"],[0.6666666666666666,\"#ed7953\"],[0.7777777777777778,\"#fb9f3a\"],[0.8888888888888888,\"#fdca26\"],[1.0,\"#f0f921\"]]}],\"heatmapgl\":[{\"type\":\"heatmapgl\",\"colorbar\":{\"outlinewidth\":0,\"ticks\":\"\"},\"colorscale\":[[0.0,\"#0d0887\"],[0.1111111111111111,\"#46039f\"],[0.2222222222222222,\"#7201a8\"],[0.3333333333333333,\"#9c179e\"],[0.4444444444444444,\"#bd3786\"],[0.5555555555555556,\"#d8576b\"],[0.6666666666666666,\"#ed7953\"],[0.7777777777777778,\"#fb9f3a\"],[0.8888888888888888,\"#fdca26\"],[1.0,\"#f0f921\"]]}],\"contourcarpet\":[{\"type\":\"contourcarpet\",\"colorbar\":{\"outlinewidth\":0,\"ticks\":\"\"}}],\"contour\":[{\"type\":\"contour\",\"colorbar\":{\"outlinewidth\":0,\"ticks\":\"\"},\"colorscale\":[[0.0,\"#0d0887\"],[0.1111111111111111,\"#46039f\"],[0.2222222222222222,\"#7201a8\"],[0.3333333333333333,\"#9c179e\"],[0.4444444444444444,\"#bd3786\"],[0.5555555555555556,\"#d8576b\"],[0.6666666666666666,\"#ed7953\"],[0.7777777777777778,\"#fb9f3a\"],[0.8888888888888888,\"#fdca26\"],[1.0,\"#f0f921\"]]}],\"surface\":[{\"type\":\"surface\",\"colorbar\":{\"outlinewidth\":0,\"ticks\":\"\"},\"colorscale\":[[0.0,\"#0d0887\"],[0.1111111111111111,\"#46039f\"],[0.2222222222222222,\"#7201a8\"],[0.3333333333333333,\"#9c179e\"],[0.4444444444444444,\"#bd3786\"],[0.5555555555555556,\"#d8576b\"],[0.6666666666666666,\"#ed7953\"],[0.7777777777777778,\"#fb9f3a\"],[0.8888888888888888,\"#fdca26\"],[1.0,\"#f0f921\"]]}],\"mesh3d\":[{\"type\":\"mesh3d\",\"colorbar\":{\"outlinewidth\":0,\"ticks\":\"\"}}],\"scatter\":[{\"fillpattern\":{\"fillmode\":\"overlay\",\"size\":10,\"solidity\":0.2},\"type\":\"scatter\"}],\"parcoords\":[{\"type\":\"parcoords\",\"line\":{\"colorbar\":{\"outlinewidth\":0,\"ticks\":\"\"}}}],\"scatterpolargl\":[{\"type\":\"scatterpolargl\",\"marker\":{\"colorbar\":{\"outlinewidth\":0,\"ticks\":\"\"}}}],\"bar\":[{\"error_x\":{\"color\":\"#2a3f5f\"},\"error_y\":{\"color\":\"#2a3f5f\"},\"marker\":{\"line\":{\"color\":\"#E5ECF6\",\"width\":0.5},\"pattern\":{\"fillmode\":\"overlay\",\"size\":10,\"solidity\":0.2}},\"type\":\"bar\"}],\"scattergeo\":[{\"type\":\"scattergeo\",\"marker\":{\"colorbar\":{\"outlinewidth\":0,\"ticks\":\"\"}}}],\"scatterpolar\":[{\"type\":\"scatterpolar\",\"marker\":{\"colorbar\":{\"outlinewidth\":0,\"ticks\":\"\"}}}],\"histogram\":[{\"marker\":{\"pattern\":{\"fillmode\":\"overlay\",\"size\":10,\"solidity\":0.2}},\"type\":\"histogram\"}],\"scattergl\":[{\"type\":\"scattergl\",\"marker\":{\"colorbar\":{\"outlinewidth\":0,\"ticks\":\"\"}}}],\"scatter3d\":[{\"type\":\"scatter3d\",\"line\":{\"colorbar\":{\"outlinewidth\":0,\"ticks\":\"\"}},\"marker\":{\"colorbar\":{\"outlinewidth\":0,\"ticks\":\"\"}}}],\"scattermapbox\":[{\"type\":\"scattermapbox\",\"marker\":{\"colorbar\":{\"outlinewidth\":0,\"ticks\":\"\"}}}],\"scatterternary\":[{\"type\":\"scatterternary\",\"marker\":{\"colorbar\":{\"outlinewidth\":0,\"ticks\":\"\"}}}],\"scattercarpet\":[{\"type\":\"scattercarpet\",\"marker\":{\"colorbar\":{\"outlinewidth\":0,\"ticks\":\"\"}}}],\"carpet\":[{\"aaxis\":{\"endlinecolor\":\"#2a3f5f\",\"gridcolor\":\"white\",\"linecolor\":\"white\",\"minorgridcolor\":\"white\",\"startlinecolor\":\"#2a3f5f\"},\"baxis\":{\"endlinecolor\":\"#2a3f5f\",\"gridcolor\":\"white\",\"linecolor\":\"white\",\"minorgridcolor\":\"white\",\"startlinecolor\":\"#2a3f5f\"},\"type\":\"carpet\"}],\"table\":[{\"cells\":{\"fill\":{\"color\":\"#EBF0F8\"},\"line\":{\"color\":\"white\"}},\"header\":{\"fill\":{\"color\":\"#C8D4E3\"},\"line\":{\"color\":\"white\"}},\"type\":\"table\"}],\"barpolar\":[{\"marker\":{\"line\":{\"color\":\"#E5ECF6\",\"width\":0.5},\"pattern\":{\"fillmode\":\"overlay\",\"size\":10,\"solidity\":0.2}},\"type\":\"barpolar\"}],\"pie\":[{\"automargin\":true,\"type\":\"pie\"}]},\"layout\":{\"autotypenumbers\":\"strict\",\"colorway\":[\"#636efa\",\"#EF553B\",\"#00cc96\",\"#ab63fa\",\"#FFA15A\",\"#19d3f3\",\"#FF6692\",\"#B6E880\",\"#FF97FF\",\"#FECB52\"],\"font\":{\"color\":\"#2a3f5f\"},\"hovermode\":\"closest\",\"hoverlabel\":{\"align\":\"left\"},\"paper_bgcolor\":\"white\",\"plot_bgcolor\":\"#E5ECF6\",\"polar\":{\"bgcolor\":\"#E5ECF6\",\"angularaxis\":{\"gridcolor\":\"white\",\"linecolor\":\"white\",\"ticks\":\"\"},\"radialaxis\":{\"gridcolor\":\"white\",\"linecolor\":\"white\",\"ticks\":\"\"}},\"ternary\":{\"bgcolor\":\"#E5ECF6\",\"aaxis\":{\"gridcolor\":\"white\",\"linecolor\":\"white\",\"ticks\":\"\"},\"baxis\":{\"gridcolor\":\"white\",\"linecolor\":\"white\",\"ticks\":\"\"},\"caxis\":{\"gridcolor\":\"white\",\"linecolor\":\"white\",\"ticks\":\"\"}},\"coloraxis\":{\"colorbar\":{\"outlinewidth\":0,\"ticks\":\"\"}},\"colorscale\":{\"sequential\":[[0.0,\"#0d0887\"],[0.1111111111111111,\"#46039f\"],[0.2222222222222222,\"#7201a8\"],[0.3333333333333333,\"#9c179e\"],[0.4444444444444444,\"#bd3786\"],[0.5555555555555556,\"#d8576b\"],[0.6666666666666666,\"#ed7953\"],[0.7777777777777778,\"#fb9f3a\"],[0.8888888888888888,\"#fdca26\"],[1.0,\"#f0f921\"]],\"sequentialminus\":[[0.0,\"#0d0887\"],[0.1111111111111111,\"#46039f\"],[0.2222222222222222,\"#7201a8\"],[0.3333333333333333,\"#9c179e\"],[0.4444444444444444,\"#bd3786\"],[0.5555555555555556,\"#d8576b\"],[0.6666666666666666,\"#ed7953\"],[0.7777777777777778,\"#fb9f3a\"],[0.8888888888888888,\"#fdca26\"],[1.0,\"#f0f921\"]],\"diverging\":[[0,\"#8e0152\"],[0.1,\"#c51b7d\"],[0.2,\"#de77ae\"],[0.3,\"#f1b6da\"],[0.4,\"#fde0ef\"],[0.5,\"#f7f7f7\"],[0.6,\"#e6f5d0\"],[0.7,\"#b8e186\"],[0.8,\"#7fbc41\"],[0.9,\"#4d9221\"],[1,\"#276419\"]]},\"xaxis\":{\"gridcolor\":\"white\",\"linecolor\":\"white\",\"ticks\":\"\",\"title\":{\"standoff\":15},\"zerolinecolor\":\"white\",\"automargin\":true,\"zerolinewidth\":2},\"yaxis\":{\"gridcolor\":\"white\",\"linecolor\":\"white\",\"ticks\":\"\",\"title\":{\"standoff\":15},\"zerolinecolor\":\"white\",\"automargin\":true,\"zerolinewidth\":2},\"scene\":{\"xaxis\":{\"backgroundcolor\":\"#E5ECF6\",\"gridcolor\":\"white\",\"linecolor\":\"white\",\"showbackground\":true,\"ticks\":\"\",\"zerolinecolor\":\"white\",\"gridwidth\":2},\"yaxis\":{\"backgroundcolor\":\"#E5ECF6\",\"gridcolor\":\"white\",\"linecolor\":\"white\",\"showbackground\":true,\"ticks\":\"\",\"zerolinecolor\":\"white\",\"gridwidth\":2},\"zaxis\":{\"backgroundcolor\":\"#E5ECF6\",\"gridcolor\":\"white\",\"linecolor\":\"white\",\"showbackground\":true,\"ticks\":\"\",\"zerolinecolor\":\"white\",\"gridwidth\":2}},\"shapedefaults\":{\"line\":{\"color\":\"#2a3f5f\"}},\"annotationdefaults\":{\"arrowcolor\":\"#2a3f5f\",\"arrowhead\":0,\"arrowwidth\":1},\"geo\":{\"bgcolor\":\"white\",\"landcolor\":\"#E5ECF6\",\"subunitcolor\":\"white\",\"showland\":true,\"showlakes\":true,\"lakecolor\":\"white\"},\"title\":{\"x\":0.05},\"mapbox\":{\"style\":\"light\"}}},\"xaxis\":{\"anchor\":\"y\",\"domain\":[0.0,1.0],\"title\":{\"text\":\"Model\"},\"categoryorder\":\"array\",\"categoryarray\":[\"Random Forest\",\"XGBoost\",\"LightGBM\"]},\"yaxis\":{\"anchor\":\"x\",\"domain\":[0.0,1.0],\"title\":{\"text\":\"Test Accuracy\"}},\"legend\":{\"title\":{\"text\":\"Model\"},\"tracegroupgap\":0},\"title\":{\"text\":\"Top 3 Best Performing Models Based on Test Accuracy\"},\"barmode\":\"relative\"},                        {\"responsive\": true}                    ).then(function(){\n",
       "                            \n",
       "var gd = document.getElementById('98a13733-7f30-4342-904c-ec8334871ab9');\n",
       "var x = new MutationObserver(function (mutations, observer) {{\n",
       "        var display = window.getComputedStyle(gd).display;\n",
       "        if (!display || display === 'none') {{\n",
       "            console.log([gd, 'removed!']);\n",
       "            Plotly.purge(gd);\n",
       "            observer.disconnect();\n",
       "        }}\n",
       "}});\n",
       "\n",
       "// Listen for the removal of the full notebook cells\n",
       "var notebookContainer = gd.closest('#notebook-container');\n",
       "if (notebookContainer) {{\n",
       "    x.observe(notebookContainer, {childList: true});\n",
       "}}\n",
       "\n",
       "// Listen for the clearing of the current output cell\n",
       "var outputEl = gd.closest('.output');\n",
       "if (outputEl) {{\n",
       "    x.observe(outputEl, {childList: true});\n",
       "}}\n",
       "\n",
       "                        })                };                });            </script>        </div>"
      ]
     },
     "metadata": {},
     "output_type": "display_data"
    }
   ],
   "source": [
    "import plotly.express as px\n",
    "\n",
    "# the models and their corresponding test accuracies\n",
    "model_names = ['Random Forest', 'XGBoost', 'LightGBM', 'CatBoost', 'Decision Tree', 'KNN', 'SVC', 'Logistic Regression']\n",
    "test_accuracies = [0.988333, 0.987667, 0.986333, 0.985667, 0.979700, 0.956200, 0.793500, 0.780700]\n",
    "\n",
    "# Create a DataFrame\n",
    "df = pd.DataFrame({\n",
    "    'Model': model_names,\n",
    "    'Test Accuracy': test_accuracies\n",
    "})\n",
    "\n",
    "# Sort the models by Test Accuracy in descending order\n",
    "top_3_models = df.sort_values(by='Test Accuracy', ascending=False).head(3)\n",
    "\n",
    "# Create a Plotly bar plot\n",
    "fig = px.bar(top_3_models, x='Model', y='Test Accuracy', \n",
    "             title='Top 3 Best Performing Models Based on Test Accuracy',\n",
    "             labels={'Test Accuracy': 'Test Accuracy', 'Model': 'Model'},\n",
    "             color='Model', color_discrete_sequence=px.colors.qualitative.Set2)\n",
    "\n",
    "# Show the plot\n",
    "fig.show()\n"
   ]
  },
  {
   "cell_type": "markdown",
   "id": "4557e6f8-d7aa-4555-a58f-afd9de40fc31",
   "metadata": {},
   "source": [
    "Random Forest has high test accuracy for 0.9883 followed by XGBoost with accuracy of ).9876 and finally LightGBM model which as accuracy of 0.9863."
   ]
  },
  {
   "cell_type": "code",
   "execution_count": null,
   "id": "f380cad3-7709-4dfd-83fa-c9a83f00d2e7",
   "metadata": {},
   "outputs": [],
   "source": []
  }
 ],
 "metadata": {
  "kernelspec": {
   "display_name": "Python 3 (ipykernel)",
   "language": "python",
   "name": "python3"
  },
  "language_info": {
   "codemirror_mode": {
    "name": "ipython",
    "version": 3
   },
   "file_extension": ".py",
   "mimetype": "text/x-python",
   "name": "python",
   "nbconvert_exporter": "python",
   "pygments_lexer": "ipython3",
   "version": "3.12.4"
  }
 },
 "nbformat": 4,
 "nbformat_minor": 5
}
